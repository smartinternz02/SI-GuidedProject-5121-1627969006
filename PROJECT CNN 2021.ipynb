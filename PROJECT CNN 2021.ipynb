{
 "cells": [
  {
   "cell_type": "code",
   "execution_count": 2,
   "metadata": {},
   "outputs": [],
   "source": [
    "from tensorflow.keras.models import Sequential\n",
    "from tensorflow.keras.layers import Dense,Flatten,Convolution2D,MaxPooling2D"
   ]
  },
  {
   "cell_type": "code",
   "execution_count": 3,
   "metadata": {},
   "outputs": [],
   "source": [
    "from tensorflow.keras.preprocessing.image import ImageDataGenerator"
   ]
  },
  {
   "cell_type": "code",
   "execution_count": 4,
   "metadata": {},
   "outputs": [],
   "source": [
    "train_datagen= ImageDataGenerator(rescale=1./255,shear_range=0.2,zoom_range=0.2,horizontal_flip=True)\n",
    "test_datagen= ImageDataGenerator(rescale=1./255)"
   ]
  },
  {
   "cell_type": "code",
   "execution_count": 24,
   "metadata": {},
   "outputs": [
    {
     "name": "stdout",
     "output_type": "stream",
     "text": [
      "Found 1000 images belonging to 2 classes.\n",
      "Found 1000 images belonging to 2 classes.\n"
     ]
    }
   ],
   "source": [
    "x_train=train_datagen.flow_from_directory(r\"D:\\externship\\project\\Rock_Classification_Dataset\",target_size=(64,64),batch_size=32,class_mode='categorical')\n",
    "x_test=train_datagen.flow_from_directory(r\"D:\\externship\\project\\Rock_Classification_Dataset\",target_size=(64,64),batch_size=32,class_mode='categorical')"
   ]
  },
  {
   "cell_type": "code",
   "execution_count": 25,
   "metadata": {},
   "outputs": [],
   "source": [
    "cnn=Sequential()"
   ]
  },
  {
   "cell_type": "code",
   "execution_count": 26,
   "metadata": {},
   "outputs": [],
   "source": [
    "cnn.add(Convolution2D(32,(3,3),input_shape=(64,64,3)))"
   ]
  },
  {
   "cell_type": "code",
   "execution_count": 27,
   "metadata": {},
   "outputs": [],
   "source": [
    "cnn.add(MaxPooling2D(2,2))"
   ]
  },
  {
   "cell_type": "code",
   "execution_count": 28,
   "metadata": {},
   "outputs": [],
   "source": [
    "cnn.add(Flatten())"
   ]
  },
  {
   "cell_type": "code",
   "execution_count": 29,
   "metadata": {},
   "outputs": [],
   "source": [
    "cnn.add(Dense(units =128 ,kernel_initializer=\"random_uniform\",activation = 'relu'))"
   ]
  },
  {
   "cell_type": "code",
   "execution_count": 30,
   "metadata": {},
   "outputs": [],
   "source": [
    "cnn.add(Dense(units = 2,kernel_initializer=\"random_uniform\",activation = 'softmax'))"
   ]
  },
  {
   "cell_type": "code",
   "execution_count": 31,
   "metadata": {},
   "outputs": [],
   "source": [
    "cnn.compile(optimizer = 'rmsprop',loss=\"categorical_crossentropy\",metrics = ['accuracy'])"
   ]
  },
  {
   "cell_type": "code",
   "execution_count": 35,
   "metadata": {},
   "outputs": [
    {
     "name": "stdout",
     "output_type": "stream",
     "text": [
      "Epoch 1/15\n",
      "22/21 [==============================] - 2s 108ms/step - loss: 0.5438 - acc: 0.7244 - val_loss: 0.5091 - val_acc: 0.7937\n",
      "Epoch 2/15\n",
      "22/21 [==============================] - 2s 92ms/step - loss: 0.4941 - acc: 0.7485 - val_loss: 0.4880 - val_acc: 0.7906\n",
      "Epoch 3/15\n",
      "22/21 [==============================] - 2s 87ms/step - loss: 0.5338 - acc: 0.7382 - val_loss: 0.4948 - val_acc: 0.7844\n",
      "Epoch 4/15\n",
      "22/21 [==============================] - 2s 85ms/step - loss: 0.5275 - acc: 0.7368 - val_loss: 0.4818 - val_acc: 0.7937\n",
      "Epoch 5/15\n",
      "22/21 [==============================] - 2s 94ms/step - loss: 0.5462 - acc: 0.7206 - val_loss: 0.6143 - val_acc: 0.6812\n",
      "Epoch 6/15\n",
      "22/21 [==============================] - 2s 79ms/step - loss: 0.5305 - acc: 0.7353 - val_loss: 0.4553 - val_acc: 0.7969\n",
      "Epoch 7/15\n",
      "22/21 [==============================] - 2s 78ms/step - loss: 0.5045 - acc: 0.7557 - val_loss: 0.4876 - val_acc: 0.7812\n",
      "Epoch 8/15\n",
      "22/21 [==============================] - 2s 97ms/step - loss: 0.5236 - acc: 0.7415 - val_loss: 0.5024 - val_acc: 0.7969\n",
      "Epoch 9/15\n",
      "22/21 [==============================] - 2s 89ms/step - loss: 0.5131 - acc: 0.7591 - val_loss: 0.4987 - val_acc: 0.7875\n",
      "Epoch 10/15\n",
      "22/21 [==============================] - 2s 78ms/step - loss: 0.4902 - acc: 0.7741 - val_loss: 0.4737 - val_acc: 0.8000\n",
      "Epoch 11/15\n",
      "22/21 [==============================] - 2s 102ms/step - loss: 0.4757 - acc: 0.7628 - val_loss: 0.4458 - val_acc: 0.8062\n",
      "Epoch 12/15\n",
      "22/21 [==============================] - 2s 83ms/step - loss: 0.5037 - acc: 0.7470 - val_loss: 0.4809 - val_acc: 0.7906\n",
      "Epoch 13/15\n",
      "22/21 [==============================] - 2s 81ms/step - loss: 0.4966 - acc: 0.7756 - val_loss: 0.4574 - val_acc: 0.8125\n",
      "Epoch 14/15\n",
      "22/21 [==============================] - 2s 103ms/step - loss: 0.4651 - acc: 0.7699 - val_loss: 0.4283 - val_acc: 0.8281\n",
      "Epoch 15/15\n",
      "22/21 [==============================] - 2s 88ms/step - loss: 0.4675 - acc: 0.7912 - val_loss: 0.5344 - val_acc: 0.7750\n"
     ]
    },
    {
     "data": {
      "text/plain": [
       "<tensorflow.python.keras.callbacks.History at 0x1d69e25a0f0>"
      ]
     },
     "execution_count": 35,
     "metadata": {},
     "output_type": "execute_result"
    }
   ],
   "source": [
    "cnn.fit_generator(x_train,steps_per_epoch=700/32,epochs=15,validation_data=x_test,validation_steps=300/32)"
   ]
  },
  {
   "cell_type": "code",
   "execution_count": 36,
   "metadata": {},
   "outputs": [],
   "source": [
    "cnn.save(\"rocksidentification.h5\")"
   ]
  },
  {
   "cell_type": "code",
   "execution_count": null,
   "metadata": {},
   "outputs": [],
   "source": []
  },
  {
   "cell_type": "code",
   "execution_count": null,
   "metadata": {},
   "outputs": [],
   "source": []
  }
 ],
 "metadata": {
  "kernelspec": {
   "display_name": "Python 3",
   "language": "python",
   "name": "python3"
  },
  "language_info": {
   "codemirror_mode": {
    "name": "ipython",
    "version": 3
   },
   "file_extension": ".py",
   "mimetype": "text/x-python",
   "name": "python",
   "nbconvert_exporter": "python",
   "pygments_lexer": "ipython3",
   "version": "3.7.3"
  }
 },
 "nbformat": 4,
 "nbformat_minor": 2
}
